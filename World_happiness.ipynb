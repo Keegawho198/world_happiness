{
 "cells": [
  {
   "cell_type": "code",
   "execution_count": 1,
   "id": "b90326c4-aee1-49ae-8020-a3380eb52573",
   "metadata": {},
   "outputs": [],
   "source": [
    "#World Happiness"
   ]
  },
  {
   "cell_type": "code",
   "execution_count": null,
   "id": "ffe63831-8566-4df3-b6c8-988fa1a7d2d8",
   "metadata": {},
   "outputs": [],
   "source": []
  },
  {
   "cell_type": "code",
   "execution_count": 2,
   "id": "acdcdf97-50a1-459b-bdeb-635046bcfa3b",
   "metadata": {},
   "outputs": [],
   "source": [
    "import pandas as pd\n",
    "import numpy as np\n",
    "import matplotlib.pyplot as plt\n",
    "import seaborn as sns\n",
    "import re\n",
    "import scipy.stats as stats\n",
    "from sklearn.model_selection import train_test_split, cross_val_score\n",
    "from sklearn.preprocessing import LabelEncoder, StandardScaler\n",
    "from sklearn.linear_model import LogisticRegression\n",
    "from sklearn.ensemble import RandomForestClassifier\n",
    "from sklearn.metrics import confusion_matrix, classification_report, roc_curve, auc, accuracy_score\n",
    "import plotly.express as px\n",
    "import warnings  \n",
    "\n",
    "# Ignore all warnings  \n",
    "warnings.filterwarnings('ignore')\n",
    "\n",
    "sns.set(style=\"whitegrid\")\n",
    "%matplotlib inline"
   ]
  },
  {
   "cell_type": "code",
   "execution_count": 4,
   "id": "0b82b2d6-e6d5-40e4-a6c4-687a6046aede",
   "metadata": {},
   "outputs": [
    {
     "data": {
      "text/html": [
       "<div>\n",
       "<style scoped>\n",
       "    .dataframe tbody tr th:only-of-type {\n",
       "        vertical-align: middle;\n",
       "    }\n",
       "\n",
       "    .dataframe tbody tr th {\n",
       "        vertical-align: top;\n",
       "    }\n",
       "\n",
       "    .dataframe thead th {\n",
       "        text-align: right;\n",
       "    }\n",
       "</style>\n",
       "<table border=\"1\" class=\"dataframe\">\n",
       "  <thead>\n",
       "    <tr style=\"text-align: right;\">\n",
       "      <th></th>\n",
       "      <th>Country</th>\n",
       "      <th>Happiness Rank</th>\n",
       "      <th>Happiness Score</th>\n",
       "      <th>Economy (GDP per Capita)</th>\n",
       "      <th>Family</th>\n",
       "      <th>Health (Life Expectancy)</th>\n",
       "      <th>Freedom</th>\n",
       "      <th>Trust (Government Corruption)</th>\n",
       "      <th>Generosity</th>\n",
       "      <th>Dystopia Residual</th>\n",
       "      <th>Year</th>\n",
       "    </tr>\n",
       "  </thead>\n",
       "  <tbody>\n",
       "    <tr>\n",
       "      <th>0</th>\n",
       "      <td>Switzerland</td>\n",
       "      <td>1</td>\n",
       "      <td>7.587</td>\n",
       "      <td>1.39651</td>\n",
       "      <td>1.34951</td>\n",
       "      <td>0.94143</td>\n",
       "      <td>0.66557</td>\n",
       "      <td>0.41978</td>\n",
       "      <td>0.29678</td>\n",
       "      <td>2.51738</td>\n",
       "      <td>2015</td>\n",
       "    </tr>\n",
       "    <tr>\n",
       "      <th>1</th>\n",
       "      <td>Iceland</td>\n",
       "      <td>2</td>\n",
       "      <td>7.561</td>\n",
       "      <td>1.30232</td>\n",
       "      <td>1.40223</td>\n",
       "      <td>0.94784</td>\n",
       "      <td>0.62877</td>\n",
       "      <td>0.14145</td>\n",
       "      <td>0.43630</td>\n",
       "      <td>2.70201</td>\n",
       "      <td>2015</td>\n",
       "    </tr>\n",
       "    <tr>\n",
       "      <th>2</th>\n",
       "      <td>Denmark</td>\n",
       "      <td>3</td>\n",
       "      <td>7.527</td>\n",
       "      <td>1.32548</td>\n",
       "      <td>1.36058</td>\n",
       "      <td>0.87464</td>\n",
       "      <td>0.64938</td>\n",
       "      <td>0.48357</td>\n",
       "      <td>0.34139</td>\n",
       "      <td>2.49204</td>\n",
       "      <td>2015</td>\n",
       "    </tr>\n",
       "    <tr>\n",
       "      <th>3</th>\n",
       "      <td>Norway</td>\n",
       "      <td>4</td>\n",
       "      <td>7.522</td>\n",
       "      <td>1.45900</td>\n",
       "      <td>1.33095</td>\n",
       "      <td>0.88521</td>\n",
       "      <td>0.66973</td>\n",
       "      <td>0.36503</td>\n",
       "      <td>0.34699</td>\n",
       "      <td>2.46531</td>\n",
       "      <td>2015</td>\n",
       "    </tr>\n",
       "    <tr>\n",
       "      <th>4</th>\n",
       "      <td>Canada</td>\n",
       "      <td>5</td>\n",
       "      <td>7.427</td>\n",
       "      <td>1.32629</td>\n",
       "      <td>1.32261</td>\n",
       "      <td>0.90563</td>\n",
       "      <td>0.63297</td>\n",
       "      <td>0.32957</td>\n",
       "      <td>0.45811</td>\n",
       "      <td>2.45176</td>\n",
       "      <td>2015</td>\n",
       "    </tr>\n",
       "  </tbody>\n",
       "</table>\n",
       "</div>"
      ],
      "text/plain": [
       "       Country  Happiness Rank  Happiness Score  Economy (GDP per Capita)  \\\n",
       "0  Switzerland               1            7.587                   1.39651   \n",
       "1      Iceland               2            7.561                   1.30232   \n",
       "2      Denmark               3            7.527                   1.32548   \n",
       "3       Norway               4            7.522                   1.45900   \n",
       "4       Canada               5            7.427                   1.32629   \n",
       "\n",
       "    Family  Health (Life Expectancy)  Freedom  Trust (Government Corruption)  \\\n",
       "0  1.34951                   0.94143  0.66557                        0.41978   \n",
       "1  1.40223                   0.94784  0.62877                        0.14145   \n",
       "2  1.36058                   0.87464  0.64938                        0.48357   \n",
       "3  1.33095                   0.88521  0.66973                        0.36503   \n",
       "4  1.32261                   0.90563  0.63297                        0.32957   \n",
       "\n",
       "   Generosity  Dystopia Residual  Year  \n",
       "0     0.29678            2.51738  2015  \n",
       "1     0.43630            2.70201  2015  \n",
       "2     0.34139            2.49204  2015  \n",
       "3     0.34699            2.46531  2015  \n",
       "4     0.45811            2.45176  2015  "
      ]
     },
     "execution_count": 4,
     "metadata": {},
     "output_type": "execute_result"
    }
   ],
   "source": [
    "world_df = pd.read_csv(\"Dataset/World_Happiness_2015_2017_.csv\")\n",
    "\n",
    "world_df.head()"
   ]
  },
  {
   "cell_type": "code",
   "execution_count": 6,
   "id": "1235f400-5a00-4967-bf26-2ac68d2f0420",
   "metadata": {},
   "outputs": [],
   "source": [
    "#Use df.head(), df.info(), and df.describe() to explore:\n"
   ]
  },
  {
   "cell_type": "code",
   "execution_count": 8,
   "id": "b0bb72d1-8ed0-4437-8d8d-8d7be96418ec",
   "metadata": {},
   "outputs": [],
   "source": [
    "#Columns present\n",
    "\n",
    "#Missing values\n",
    "\n",
    "#Data types\n",
    "\n",
    "#Basic distributions"
   ]
  },
  {
   "cell_type": "code",
   "execution_count": null,
   "id": "9b9f271e-9e8a-4723-ada2-87f64a70c732",
   "metadata": {},
   "outputs": [],
   "source": []
  },
  {
   "cell_type": "markdown",
   "id": "b504832d-598d-47ca-9932-e7e3849ef2f0",
   "metadata": {},
   "source": [
    "🔍 Step 2: Data Cleaning\n",
    "Standardize column names (remove whitespace, lowercase, rename if inconsistent across years).\n",
    "\n",
    "Check for and handle missing values (df.isnull().sum()).\n",
    "\n",
    "Convert year column to int if necessary.\n",
    "\n",
    "Ensure country names are consistent."
   ]
  },
  {
   "cell_type": "code",
   "execution_count": null,
   "id": "b0c3ecd1-c11b-49f4-8f62-d53ebdb038e8",
   "metadata": {},
   "outputs": [],
   "source": []
  },
  {
   "cell_type": "code",
   "execution_count": 9,
   "id": "9fa6e035-e198-4702-98ff-636fb3e4d314",
   "metadata": {},
   "outputs": [
    {
     "ename": "SyntaxError",
     "evalue": "invalid character '📊' (U+1F4CA) (1010261120.py, line 1)",
     "output_type": "error",
     "traceback": [
      "\u001b[1;36m  Cell \u001b[1;32mIn[9], line 1\u001b[1;36m\u001b[0m\n\u001b[1;33m    📊 Step 3: Exploratory Data Analysis (EDA)\u001b[0m\n\u001b[1;37m    ^\u001b[0m\n\u001b[1;31mSyntaxError\u001b[0m\u001b[1;31m:\u001b[0m invalid character '📊' (U+1F4CA)\n"
     ]
    }
   ],
   "source": [
    "📊 Step 3: Exploratory Data Analysis (EDA)\n",
    "Start with:\n",
    "\n",
    "Overall distribution of happiness scores\n",
    "\n",
    "Average happiness score per year\n",
    "\n",
    "Happiness score by region (if available)\n",
    "\n",
    "Correlation heatmap among variables (e.g., Economy, Family, Health, Freedom, Generosity, Trust)\n",
    "\n",
    "Use visuals:\n",
    "\n",
    "Histograms and boxplots for score distributions\n",
    "\n",
    "Bar plots for top/bottom 10 happiest countries per year\n",
    "\n",
    "Line plots for country-wise trends across 2015–2017\n",
    "\n",
    "Pairplots or scatter plots for variable relationships"
   ]
  },
  {
   "cell_type": "code",
   "execution_count": null,
   "id": "e3843064-afc4-4c01-895a-dc8738a58835",
   "metadata": {},
   "outputs": [],
   "source": []
  },
  {
   "cell_type": "code",
   "execution_count": null,
   "id": "3e625a08-8d58-492f-9ee8-9f808024beee",
   "metadata": {},
   "outputs": [],
   "source": []
  },
  {
   "cell_type": "code",
   "execution_count": 10,
   "id": "2bfbc069-97f4-4133-a254-20c38dc963f1",
   "metadata": {},
   "outputs": [
    {
     "ename": "SyntaxError",
     "evalue": "invalid character '📈' (U+1F4C8) (4183946922.py, line 1)",
     "output_type": "error",
     "traceback": [
      "\u001b[1;36m  Cell \u001b[1;32mIn[10], line 1\u001b[1;36m\u001b[0m\n\u001b[1;33m    📈 Step 4: Key Questions to Answer\u001b[0m\n\u001b[1;37m    ^\u001b[0m\n\u001b[1;31mSyntaxError\u001b[0m\u001b[1;31m:\u001b[0m invalid character '📈' (U+1F4C8)\n"
     ]
    }
   ],
   "source": [
    "📈 Step 4: Key Questions to Answer\n",
    "Which factors are most correlated with happiness?\n",
    "\n",
    "Which countries improved or declined in happiness the most over time?\n",
    "\n",
    "Is GDP strongly linked to happiness?\n",
    "\n",
    "Do people in freer countries report higher happiness?"
   ]
  },
  {
   "cell_type": "code",
   "execution_count": null,
   "id": "22d34da3-a27f-4e56-9300-98c1ec43dc8f",
   "metadata": {},
   "outputs": [],
   "source": []
  },
  {
   "cell_type": "code",
   "execution_count": null,
   "id": "c5ba71e9-dade-40ca-b476-0f982b97af40",
   "metadata": {},
   "outputs": [],
   "source": []
  },
  {
   "cell_type": "code",
   "execution_count": 11,
   "id": "08798d0a-0410-4b8e-849c-58a680ab3a7c",
   "metadata": {},
   "outputs": [
    {
     "ename": "SyntaxError",
     "evalue": "invalid character '🧠' (U+1F9E0) (1102550786.py, line 1)",
     "output_type": "error",
     "traceback": [
      "\u001b[1;36m  Cell \u001b[1;32mIn[11], line 1\u001b[1;36m\u001b[0m\n\u001b[1;33m    🧠 Step 5: Insights and Reporting\u001b[0m\n\u001b[1;37m    ^\u001b[0m\n\u001b[1;31mSyntaxError\u001b[0m\u001b[1;31m:\u001b[0m invalid character '🧠' (U+1F9E0)\n"
     ]
    }
   ],
   "source": [
    "🧠 Step 5: Insights and Reporting\n",
    "Summarize key findings:\n",
    "\n",
    "What contributes most to happiness?\n",
    "\n",
    "How does happiness shift geographically or over time?\n",
    "\n",
    "Make visualizations to support each insight."
   ]
  },
  {
   "cell_type": "code",
   "execution_count": null,
   "id": "9f799927-9cce-4823-871a-a93e61e4008a",
   "metadata": {},
   "outputs": [],
   "source": []
  },
  {
   "cell_type": "code",
   "execution_count": null,
   "id": "dd665276-c3e5-45be-8e3f-a976f351c040",
   "metadata": {},
   "outputs": [],
   "source": []
  },
  {
   "cell_type": "code",
   "execution_count": 12,
   "id": "8fcb4890-a710-494e-82c0-bab01930cd46",
   "metadata": {},
   "outputs": [
    {
     "ename": "SyntaxError",
     "evalue": "invalid character '📦' (U+1F4E6) (574496257.py, line 1)",
     "output_type": "error",
     "traceback": [
      "\u001b[1;36m  Cell \u001b[1;32mIn[12], line 1\u001b[1;36m\u001b[0m\n\u001b[1;33m    📦 Step 6: Optional – Modeling\u001b[0m\n\u001b[1;37m    ^\u001b[0m\n\u001b[1;31mSyntaxError\u001b[0m\u001b[1;31m:\u001b[0m invalid character '📦' (U+1F4E6)\n"
     ]
    }
   ],
   "source": [
    "📦 Step 6: Optional – Modeling\n",
    "Try linear regression to predict happiness score from other features.\n",
    "\n",
    "Evaluate model performance using R², MAE, etc."
   ]
  },
  {
   "cell_type": "code",
   "execution_count": null,
   "id": "6757b996-50c0-4ead-a572-810dba43517f",
   "metadata": {},
   "outputs": [],
   "source": []
  },
  {
   "cell_type": "code",
   "execution_count": null,
   "id": "50b8d229-07ee-4581-aceb-868c7838d1f6",
   "metadata": {},
   "outputs": [],
   "source": []
  },
  {
   "cell_type": "code",
   "execution_count": null,
   "id": "b714b1ca-1c48-4c22-9f6f-b487c435f5ad",
   "metadata": {},
   "outputs": [],
   "source": []
  },
  {
   "cell_type": "code",
   "execution_count": null,
   "id": "652b3fd1-aaae-4a84-967d-f0f5338b4fc9",
   "metadata": {},
   "outputs": [],
   "source": []
  },
  {
   "cell_type": "code",
   "execution_count": null,
   "id": "55a42a6b-0fd8-4a01-88d6-bbed77e3f0e9",
   "metadata": {},
   "outputs": [],
   "source": []
  },
  {
   "cell_type": "code",
   "execution_count": null,
   "id": "090a32a9-3ab0-4c7f-8048-d3697f4005fa",
   "metadata": {},
   "outputs": [],
   "source": []
  },
  {
   "cell_type": "code",
   "execution_count": 13,
   "id": "f9d83d41-837f-4027-ac74-56e109abac41",
   "metadata": {},
   "outputs": [
    {
     "ename": "SyntaxError",
     "evalue": "invalid character '📚' (U+1F4DA) (2021278752.py, line 1)",
     "output_type": "error",
     "traceback": [
      "\u001b[1;36m  Cell \u001b[1;32mIn[13], line 1\u001b[1;36m\u001b[0m\n\u001b[1;33m    📚 Step 7: Wrap-Up\u001b[0m\n\u001b[1;37m    ^\u001b[0m\n\u001b[1;31mSyntaxError\u001b[0m\u001b[1;31m:\u001b[0m invalid character '📚' (U+1F4DA)\n"
     ]
    }
   ],
   "source": [
    "📚 Step 7: Wrap-Up\n",
    "Create a Jupyter Notebook or Python script with:\n",
    "\n",
    "Cleaned code\n",
    "\n",
    "Visuals\n",
    "\n",
    "Markdown cells explaining each section\n",
    "\n",
    "Prepare a concise README with project purpose, methodology, key findings, and next steps."
   ]
  },
  {
   "cell_type": "code",
   "execution_count": null,
   "id": "78611e06-086e-441e-bd27-eb637e69c09f",
   "metadata": {},
   "outputs": [],
   "source": []
  }
 ],
 "metadata": {
  "kernelspec": {
   "display_name": "Python 3 (ipykernel)",
   "language": "python",
   "name": "python3"
  },
  "language_info": {
   "codemirror_mode": {
    "name": "ipython",
    "version": 3
   },
   "file_extension": ".py",
   "mimetype": "text/x-python",
   "name": "python",
   "nbconvert_exporter": "python",
   "pygments_lexer": "ipython3",
   "version": "3.12.3"
  }
 },
 "nbformat": 4,
 "nbformat_minor": 5
}
